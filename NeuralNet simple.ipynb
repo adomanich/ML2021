{
 "cells": [
  {
   "cell_type": "markdown",
   "metadata": {},
   "source": [
    "В цій практичній роботі ми спробуємо реалізувати нейронну мережу з двох шарів (прихований і вихідний). Запропонований підхід стане заготовкою для реалізації наступних оптимізацій: MBGD, ADAM та регуляризації. \n",
    "\n",
    "Сьогодні ж вам пропонується додати до цього класу підтримку довільної кількості шарів та нейронів в них (наприклад, передавати їх параметром в конструктор, як це робиться в MLPClassifier за допомогою hidden_layer_sizes). Також потрібно передбачити можливість ранньої зупинки ітераційного процесу, якщо значення штрафної функції не покращуватиметься протягом певної кількості ітерацій. Наприклад, якщо протягом $k$ ітерацій штрафна функція за модулем не стане меншою, ніж на поточному кроці."
   ]
  },
  {
   "cell_type": "code",
   "execution_count": 1,
   "metadata": {},
   "outputs": [],
   "source": [
    "import pandas as pd\n",
    "from sklearn.model_selection import train_test_split\n",
    "from mpl_toolkits.mplot3d import Axes3D\n",
    "import matplotlib.pyplot as plt\n",
    "\n",
    "from matplotlib.colors import ListedColormap\n",
    "cm_bright = ListedColormap(['#FF0000', '#0000FF'])\n",
    "%matplotlib inline\n",
    "from sklearn.metrics import accuracy_score\n",
    "import numpy as np\n",
    "import sklearn.linear_model"
   ]
  },
  {
   "cell_type": "code",
   "execution_count": 2,
   "metadata": {},
   "outputs": [],
   "source": [
    "def plot_surface(cls, x_1, x_2, ax=None, threshold=0.5, contourf=False):\n",
    "    xx1, xx2 = np.meshgrid(np.linspace(x_1.min(), x_1.max(), 100), \n",
    "                           np.linspace(x_2.min(), x_2.max(), 100))\n",
    "\n",
    "    X_pred = np.c_[xx1.ravel(), xx2.ravel()]\n",
    "    pred = cls.predict_proba(X_pred)[:, 0]\n",
    "    Z = pred.reshape((100, 100))\n",
    "    if ax is None:\n",
    "        ax = plt.gca()\n",
    "    ax.contour(xx1, xx2, Z, levels=[threshold], colors='black')\n",
    "    ax.set_xlim((x_1.min(), x_1.max()))"
   ]
  },
  {
   "cell_type": "code",
   "execution_count": 3,
   "metadata": {},
   "outputs": [],
   "source": [
    "def plot_data(X, y):\n",
    "    ax = plt.gca()\n",
    "    ax.scatter(X[:,0], X[:,1], c=(y == 1), cmap=cm_bright)"
   ]
  },
  {
   "cell_type": "code",
   "execution_count": 4,
   "metadata": {},
   "outputs": [],
   "source": [
    "class NeuralNet:\n",
    "    \"\"\"\n",
    "    NN for binary classification\n",
    "    Attributes:\n",
    "    ...\n",
    "    \"\"\"\n",
    "    def __init__(self, accuracy, hidden_layer_sizes, normalize = True, learning_rate = 0.01, num_iter = 30000):\n",
    "        self.learning_rate = learning_rate\n",
    "        self.num_iter = num_iter\n",
    "        self.normalize = normalize\n",
    "        self.accuracy = accuracy\n",
    "        self.hidden_layer_sizes = hidden_layer_sizes\n",
    "        self.n_layers = len(hidden_layer_sizes) + 1\n",
    "    \n",
    "    def __normalize(self, X, mean = None, std = None):\n",
    "        \"\"\"\n",
    "        Зверніть увагу, що нормалізація вхідних даних є дуже важливою для швидкодії нейронних мереж.\n",
    "        \"\"\"\n",
    "        n = X.shape[0]\n",
    "        m = mean\n",
    "        if m is None:\n",
    "            m = np.mean(X, axis=1).reshape((n, 1))\n",
    "        s = std\n",
    "        if s is None:\n",
    "            s = np.std(X, axis=1).reshape((n, 1))\n",
    "        X_new = (X - m) / s**2\n",
    "        return X_new, m, s\n",
    "\n",
    "    def __sigmoid(self, Z):\n",
    "        \"\"\"\n",
    "        В наступних практичних потрібно буде додати підтримку й інших активаційних функцій - це один з гіперпараметрів. \n",
    "        Їх можна вибирати для всіх шарів одночасно або мати різні активаційні функції на кожному з них.\n",
    "        \"\"\"\n",
    "        return 1 / (1 + np.exp(-Z))\n",
    "    \n",
    "    def __initialize_parameters(self, n_x):\n",
    "        W = list()\n",
    "        b = list()\n",
    "        \n",
    "        h = list(self.hidden_layer_sizes)\n",
    "        h.insert(0, n_x)\n",
    "        h.append(1)\n",
    "        hidden_layers = tuple(h)\n",
    "        \n",
    "        for i in range(1, self.n_layers+1):\n",
    "            W.append(np.random.randn(hidden_layers[i], hidden_layers[i-1]) * 0.01)\n",
    "            b.append(np.zeros((hidden_layers[i], 1)))\n",
    "\n",
    "        self.parameters = {\"W\" : W, \"b\" : b}\n",
    "                    \n",
    "    def __forward_propagation(self, X):\n",
    "        W = self.parameters[\"W\"]\n",
    "        b = self.parameters[\"b\"]\n",
    "\n",
    "        A = []\n",
    "        Z = []\n",
    "        \n",
    "        for i in range(0, self.n_layers):\n",
    "            if i == 0:\n",
    "                Z.append(np.dot(W[i], X) + b[i])\n",
    "            else:\n",
    "                Z.append(np.dot(W[i], A[i-1]) + b[i])\n",
    "            A.append(self.__sigmoid(Z[i]))\n",
    "                       \n",
    "        cache = (W, b, Z, A)\n",
    "\n",
    "        return A[-1], cache\n",
    "    \n",
    "    def compute_cost(self, A, Y):\n",
    "        m = Y.shape[1]\n",
    "        res = Y * np.log(A) + (1 - Y) * np.log(1 - A)\n",
    "        J = -(1 / m) * np.sum(res)\n",
    "        return J\n",
    "        \n",
    "    def __backward_propagation(self, X, Y, cache):\n",
    "        m = X.shape[1]\n",
    "        n = X.shape[0]\n",
    "        (W, b, Z, A) = cache\n",
    "        \n",
    "        dW = [None] * (self.n_layers)\n",
    "        dA = [None] * (self.n_layers)\n",
    "        dZ = [None] * (self.n_layers)\n",
    "        db = [None] * (self.n_layers)\n",
    "        \n",
    "        dZ[-1] = (A[-1] - Y)\n",
    "        dW[-1] = (1. / m * np.dot(dZ[-1], A[-2].T))\n",
    "        db[-1] = (1. / m * np.sum(dZ[-1], axis = 1, keepdims = True))\n",
    "        \n",
    "        for i in range(self.n_layers-1, 0, -1):\n",
    "            dA[i-1] = np.dot(W[i].T, dZ[i])\n",
    "            dZ[i-1] = np.multiply(dA[i-1], np.multiply(A[i-1], 1 - A[i-1]))\n",
    "            if i-1 == 0:\n",
    "                dW[i-1] = 1. / m * np.dot(dZ[i-1], X.T)\n",
    "            else:\n",
    "                dW[i-1] = 1. / m * np.dot(dZ[i-1], A[i-2].T)\n",
    "            db[i-1] = 1. / m * np.sum(dZ[i-1], axis = 1, keepdims = True)        \n",
    "        \n",
    "        grads = {\"dZ\" : dZ, \"dW\" : dW, \"db\" : db}\n",
    "        return grads\n",
    "    \n",
    "    def __update_parameters(self, grads):\n",
    "        W = self.parameters[\"W\"]\n",
    "        b = self.parameters[\"b\"]\n",
    "\n",
    "        dW = grads[\"dW\"]\n",
    "        db = grads[\"db\"]\n",
    "        \n",
    "        for i in range(self.n_layers):\n",
    "            W[i] = W[i] - self.learning_rate * dW[i]\n",
    "            b[i] = b[i] - self.learning_rate * db[i]\n",
    "\n",
    "        \n",
    "    def fit(self, X_vert, Y_vert, print_cost = True):\n",
    "        self.n_iter = 0\n",
    "        X, Y = X_vert.T, Y_vert.T\n",
    "        \n",
    "        if self.normalize:\n",
    "            X, self.__mean, self.__std = self.__normalize(X)\n",
    "        \n",
    "        costs = []\n",
    "        \n",
    "        m = X.shape[1]\n",
    "        n_x = X.shape[0]\n",
    "        \n",
    "        self.__initialize_parameters(n_x)\n",
    "\n",
    "        for i in range(self.num_iter):\n",
    "            self.n_iter = i\n",
    "            A, cache = self.__forward_propagation(X)\n",
    "\n",
    "            cost = self.compute_cost(A, Y)\n",
    "            costs.append(cost)\n",
    "\n",
    "            grads = self.__backward_propagation(X, Y, cache)\n",
    "\n",
    "            self.__update_parameters(grads)\n",
    "            \n",
    "            if print_cost and i % 1000 == 0:\n",
    "                print(\"{}-th iteration: {}\".format(i, cost))\n",
    "                \n",
    "            if i > 1 and abs(cost-costs[-2]) < self.accuracy:\n",
    "                break\n",
    "\n",
    "        if print_cost:\n",
    "            plt.plot(costs)\n",
    "            plt.ylabel(\"Cost\")\n",
    "            plt.xlabel(\"Iteration, *1000\")\n",
    "            plt.show()\n",
    "    \n",
    "    def predict_proba(self, X_vert):\n",
    "        X = X_vert.T\n",
    "        if self.normalize:\n",
    "            X, _, _ = self.__normalize(X, self.__mean, self.__std)\n",
    "        \n",
    "        probs = self.__forward_propagation(X)[0]\n",
    "        \n",
    "        return np.column_stack((probs.T, 1 - probs.T))\n",
    "    \n",
    "    def predict(self, X_vert):\n",
    "        positive_probs = self.predict_proba(X_vert)[:, 0]\n",
    "        return (positive_probs >= 0.5).astype(int)"
   ]
  },
  {
   "cell_type": "markdown",
   "metadata": {},
   "source": [
    "Спочатку спробуйте цей клас на одній задачі, а потім на іншій."
   ]
  },
  {
   "cell_type": "code",
   "execution_count": 5,
   "metadata": {},
   "outputs": [],
   "source": [
    "#data_columns = [\"exam1\", \"exam2\"]\n",
    "#target_column = \"submitted\"\n",
    "#df = pd.read_csv(\"sats.csv\")\n",
    "#X, Y = df[data_columns].values, df[target_column].reshape((df.shape[0], 1))\n",
    "#print('Training set: X={}, y={}'.format(X.shape, Y.shape))"
   ]
  },
  {
   "cell_type": "code",
   "execution_count": 6,
   "metadata": {},
   "outputs": [
    {
     "name": "stdout",
     "output_type": "stream",
     "text": [
      "Training set: X=(118, 2), y=(118,)\n"
     ]
    }
   ],
   "source": [
    "data_columns = [\"test1\", \"test2\"]\n",
    "target_column = \"passed\"\n",
    "df = pd.read_csv(\"tests.csv\")\n",
    "X, Y = df[data_columns].values, df[target_column]\n",
    "print('Training set: X={}, y={}'.format(X.shape, Y.shape))"
   ]
  },
  {
   "cell_type": "code",
   "execution_count": 7,
   "metadata": {},
   "outputs": [
    {
     "data": {
      "image/png": "[encoded data removed]",
      "text/plain": [
       "<Figure size 432x288 with 1 Axes>"
      ]
     },
     "metadata": {
      "needs_background": "light"
     },
     "output_type": "display_data"
    }
   ],
   "source": [
    "plot_data(X, Y)"
   ]
  },
  {
   "cell_type": "code",
   "execution_count": 8,
   "metadata": {},
   "outputs": [],
   "source": [
    "cls = NeuralNet(\n",
    "    accuracy=1e-12,\n",
    "    hidden_layer_sizes=(20,15), \n",
    "    normalize = True, \n",
    "    learning_rate = 0.52, \n",
    "    num_iter = 14001)"
   ]
  },
  {
   "cell_type": "code",
   "execution_count": 9,
   "metadata": {},
   "outputs": [
    {
     "name": "stdout",
     "output_type": "stream",
     "text": [
      "0-th iteration: 0.6932093463829249\n",
      "1000-th iteration: 0.6930035292583479\n",
      "2000-th iteration: 0.6930034422895833\n",
      "3000-th iteration: 0.6930033378550094\n",
      "4000-th iteration: 0.6930031967120132\n",
      "5000-th iteration: 0.6930029865973724\n",
      "6000-th iteration: 0.6930026459737377\n",
      "7000-th iteration: 0.6930020429746578\n",
      "8000-th iteration: 0.6930008554236704\n",
      "9000-th iteration: 0.6929981492891784\n",
      "10000-th iteration: 0.6929904529214551\n",
      "11000-th iteration: 0.6929583773565198\n",
      "12000-th iteration: 0.692663912713293\n",
      "13000-th iteration: 0.6878541838029247\n",
      "14000-th iteration: 0.602526884856645\n"
     ]
    },
    {
     "data": {
      "image/png": "[encoded data removed]",
      "text/plain": [
       "<Figure size 432x288 with 1 Axes>"
      ]
     },
     "metadata": {
      "needs_background": "light"
     },
     "output_type": "display_data"
    }
   ],
   "source": [
    "cls.fit(X, Y.values.reshape((df.shape[0], 1)))"
   ]
  },
  {
   "cell_type": "code",
   "execution_count": 10,
   "metadata": {},
   "outputs": [
    {
     "name": "stdout",
     "output_type": "stream",
     "text": [
      "{'W': [array([[-0.54257794, -0.44686346],\n",
      "       [ 0.35921315,  0.33937066],\n",
      "       [-0.49553025, -0.38844938],\n",
      "       [ 0.27176257,  0.25305318],\n",
      "       [-0.50313162, -0.41952656],\n",
      "       [-0.51424467, -0.42083468],\n",
      "       [-0.3810149 , -0.28771618],\n",
      "       [-0.36284495, -0.27386613],\n",
      "       [-0.65693758, -0.53829266],\n",
      "       [-0.69434611, -0.55464514],\n",
      "       [-0.53593815, -0.45747827],\n",
      "       [-0.55515958, -0.46107225],\n",
      "       [-0.33680872, -0.24665699],\n",
      "       [-0.45591422, -0.36723849],\n",
      "       [-0.61547375, -0.51099087],\n",
      "       [ 0.91773013,  0.74281135],\n",
      "       [-0.56705636, -0.47419992],\n",
      "       [-1.01725533, -0.83949614],\n",
      "       [-0.1463658 , -0.08367453],\n",
      "       [ 0.51933466,  0.48941792]]), array([[ 1.30943227e-01, -1.80198077e-01,  1.09240475e-01,\n",
      "        -1.46856678e-01,  1.36726836e-01,  1.28406204e-01,\n",
      "         6.35829693e-02,  6.14282122e-02,  1.32925445e-01,\n",
      "         1.06113270e-01,  1.32277101e-01,  1.42355061e-01,\n",
      "         6.53017039e-02,  1.03645465e-01,  1.64381721e-01,\n",
      "        -2.43314622e-02,  1.25902998e-01, -1.82055430e-01,\n",
      "        -6.12395741e-03, -2.50189465e-01],\n",
      "       [ 3.35302654e-01, -3.65847473e-02,  2.90351179e-01,\n",
      "        -7.60592347e-03,  2.81684815e-01,  3.02467348e-01,\n",
      "         2.12751725e-01,  1.91283953e-01,  4.90746230e-01,\n",
      "         5.36779290e-01,  3.29487255e-01,  3.36208491e-01,\n",
      "         2.11721555e-01,  2.53083250e-01,  4.26217900e-01,\n",
      "        -7.49999066e-01,  3.50726153e-01,  1.08075189e+00,\n",
      "         1.30683043e-01, -1.24745238e-01],\n",
      "       [ 1.23199984e-01, -1.19786482e-01,  1.01244315e-01,\n",
      "        -1.06893710e-01,  1.27224507e-01,  1.10475415e-01,\n",
      "         6.36591225e-02,  4.81934268e-02,  1.02745975e-01,\n",
      "         1.04629210e-01,  1.16869165e-01,  1.25152286e-01,\n",
      "         3.96042622e-02,  8.25804349e-02,  1.28325264e-01,\n",
      "        -4.68597675e-02,  1.40814640e-01, -1.27677677e-01,\n",
      "         1.73412487e-02, -1.94141611e-01],\n",
      "       [ 1.45527590e-01, -2.04390359e-01,  9.90019731e-02,\n",
      "        -1.64449837e-01,  1.28992012e-01,  1.26868423e-01,\n",
      "         5.36502841e-02,  6.52885114e-02,  1.49948778e-01,\n",
      "         1.13094427e-01,  1.56827975e-01,  1.64970329e-01,\n",
      "         6.87007285e-02,  1.08491257e-01,  1.53279200e-01,\n",
      "        -1.00071738e-02,  1.62209519e-01, -2.38271914e-01,\n",
      "        -2.31341672e-02, -2.71992390e-01],\n",
      "       [ 4.86719856e-01, -2.89616961e-01,  4.12741593e-01,\n",
      "        -1.96692924e-01,  4.17104886e-01,  4.39166275e-01,\n",
      "         2.66531966e-01,  2.51313482e-01,  7.80585666e-01,\n",
      "         8.85738249e-01,  4.77841548e-01,  5.30030261e-01,\n",
      "         2.11402599e-01,  3.60223419e-01,  6.72887569e-01,\n",
      "        -1.40418959e+00,  5.45885273e-01,  1.61211492e+00,\n",
      "         6.30136192e-02, -5.28926221e-01],\n",
      "       [ 5.76218689e-02, -4.04236205e-02,  4.94363659e-02,\n",
      "        -2.28107793e-02,  5.53073975e-02,  3.18924944e-02,\n",
      "         2.61659548e-02,  2.08008793e-02,  6.73173087e-02,\n",
      "         6.59190859e-02,  6.05502149e-02,  6.37737684e-02,\n",
      "         1.95631771e-02,  3.07975244e-02,  5.84939503e-02,\n",
      "        -5.67794821e-02,  6.93294071e-02,  3.17548744e-02,\n",
      "         1.26327333e-02, -6.52053854e-02],\n",
      "       [ 1.44283267e-01, -1.87196549e-01,  1.16362710e-01,\n",
      "        -1.53603289e-01,  1.07565578e-01,  1.41042299e-01,\n",
      "         7.64247579e-02,  5.83732046e-02,  1.43389926e-01,\n",
      "         1.22851751e-01,  1.50441159e-01,  1.51690632e-01,\n",
      "         4.92903123e-02,  1.06853866e-01,  1.63899118e-01,\n",
      "         1.75590280e-03,  1.61866636e-01, -2.37917030e-01,\n",
      "        -2.55655193e-02, -2.82724903e-01],\n",
      "       [ 1.64655085e-01, -2.79603292e-01,  1.38841813e-01,\n",
      "        -1.92407079e-01,  1.62738484e-01,  1.31600444e-01,\n",
      "         7.36708855e-02,  8.10218146e-02,  1.41334070e-01,\n",
      "         1.06744541e-01,  1.69262059e-01,  1.69341953e-01,\n",
      "         6.01050617e-02,  1.21231542e-01,  1.73608511e-01,\n",
      "         3.51605254e-02,  1.75238470e-01, -3.45908394e-01,\n",
      "        -1.71466588e-02, -3.20797474e-01],\n",
      "       [ 1.10464627e-01, -1.17150486e-01,  1.02629701e-01,\n",
      "        -9.74385637e-02,  1.09773369e-01,  1.06125506e-01,\n",
      "         5.62151313e-02,  3.92187898e-02,  1.24468577e-01,\n",
      "         9.46827369e-02,  1.20641126e-01,  1.12058020e-01,\n",
      "         3.87479957e-02,  7.62736350e-02,  1.22034525e-01,\n",
      "        -3.85837372e-02,  1.22171672e-01, -7.43755856e-02,\n",
      "        -1.66848182e-02, -1.70135142e-01],\n",
      "       [-2.49037682e-02,  6.18044730e-02, -4.15968288e-02,\n",
      "         4.59449391e-02, -4.36592407e-02, -3.84438343e-02,\n",
      "        -3.94151700e-02, -2.52776617e-02,  8.36042270e-03,\n",
      "         2.67320085e-02, -3.31590759e-02, -4.16359614e-02,\n",
      "        -2.28640170e-02, -3.99563582e-02, -2.08173649e-02,\n",
      "        -1.47466726e-01, -3.76232931e-02,  2.63071991e-01,\n",
      "         1.29135001e-03,  7.44359746e-02],\n",
      "       [ 1.50219613e-01, -1.32731781e-01,  8.69493324e-02,\n",
      "        -1.09823795e-01,  1.19176569e-01,  1.05934836e-01,\n",
      "         6.34100672e-02,  5.80631927e-02,  1.22479973e-01,\n",
      "         9.37439676e-02,  1.16946818e-01,  1.11177482e-01,\n",
      "         3.79483692e-02,  9.18526596e-02,  1.24386915e-01,\n",
      "        -2.00894015e-02,  1.26036384e-01, -1.12431097e-01,\n",
      "         2.10786142e-03, -1.75683469e-01],\n",
      "       [ 1.45872807e-01, -2.31474025e-01,  1.33655216e-01,\n",
      "        -1.90223966e-01,  1.58766515e-01,  1.53764795e-01,\n",
      "         9.54564454e-02,  8.45270748e-02,  1.57853806e-01,\n",
      "         9.56107221e-02,  1.75159886e-01,  1.63878348e-01,\n",
      "         5.15021548e-02,  1.09578270e-01,  1.60083264e-01,\n",
      "         3.80626560e-02,  1.69708085e-01, -3.48694596e-01,\n",
      "        -2.55905571e-02, -3.30430832e-01],\n",
      "       [-4.10236343e-01,  1.62187634e-01, -3.57567402e-01,\n",
      "         1.19792204e-01, -3.52166673e-01, -3.78152554e-01,\n",
      "        -2.44521237e-01, -2.33590849e-01, -6.32582144e-01,\n",
      "        -7.06106393e-01, -3.95148776e-01, -4.34617460e-01,\n",
      "        -2.11130716e-01, -3.10355613e-01, -5.41298003e-01,\n",
      "         1.08552332e+00, -4.54908466e-01, -1.32871941e+00,\n",
      "        -1.14504051e-01,  3.30449546e-01],\n",
      "       [ 1.45044300e-01, -1.61077749e-01,  1.15559658e-01,\n",
      "        -1.12827457e-01,  1.23628827e-01,  1.40144594e-01,\n",
      "         6.99107505e-02,  7.48577061e-02,  1.28496360e-01,\n",
      "         9.43534502e-02,  1.30220788e-01,  1.21660246e-01,\n",
      "         4.89947157e-02,  9.97857701e-02,  1.50953004e-01,\n",
      "        -2.44925986e-02,  1.28809517e-01, -1.63111305e-01,\n",
      "        -6.68488851e-03, -2.54514205e-01],\n",
      "       [ 1.33530751e-01, -1.59355981e-01,  1.05263607e-01,\n",
      "        -1.38674915e-01,  1.19574419e-01,  1.25032039e-01,\n",
      "         7.62861860e-02,  5.89184701e-02,  1.31712606e-01,\n",
      "         1.09118205e-01,  1.48801918e-01,  1.18852763e-01,\n",
      "         7.22555328e-02,  1.17447956e-01,  1.30657423e-01,\n",
      "        -1.71857851e-02,  1.45641516e-01, -1.81570847e-01,\n",
      "         8.04192819e-04, -2.35380362e-01]]), array([[-0.59535452,  1.28063076, -0.46250394, -0.66536386,  2.54096168,\n",
      "        -0.11526849, -0.66255335, -0.80000183, -0.40745224,  0.26922592,\n",
      "        -0.45286488, -0.77427127, -1.62820142, -0.56939728, -0.5761069 ]])], 'b': [array([[-0.00480978],\n",
      "       [ 0.06263001],\n",
      "       [-0.01002916],\n",
      "       [ 0.0387768 ],\n",
      "       [-0.03381221],\n",
      "       [-0.01567254],\n",
      "       [-0.01667226],\n",
      "       [-0.01649826],\n",
      "       [ 0.25190931],\n",
      "       [ 0.41166773],\n",
      "       [-0.01658082],\n",
      "       [ 0.01218934],\n",
      "       [-0.01168508],\n",
      "       [-0.02221893],\n",
      "       [ 0.11634417],\n",
      "       [-1.36068468],\n",
      "       [ 0.0160798 ],\n",
      "       [ 1.83905358],\n",
      "       [ 0.00296948],\n",
      "       [ 0.07188383]]), array([[-0.1187285 ],\n",
      "       [ 0.21289187],\n",
      "       [-0.0783558 ],\n",
      "       [-0.13699404],\n",
      "       [ 0.02498816],\n",
      "       [-0.01464214],\n",
      "       [-0.13684386],\n",
      "       [-0.1840541 ],\n",
      "       [-0.06693741],\n",
      "       [ 0.03815369],\n",
      "       [-0.07550168],\n",
      "       [-0.17389543],\n",
      "       [-0.11368856],\n",
      "       [-0.11303371],\n",
      "       [-0.11305212]]), array([[0.16741146]])]}\n"
     ]
    }
   ],
   "source": [
    "print(cls.parameters)"
   ]
  },
  {
   "cell_type": "code",
   "execution_count": 11,
   "metadata": {},
   "outputs": [
    {
     "data": {
      "text/plain": [
       "array([[0.61782688, 0.38217312],\n",
       "       [0.42955885, 0.57044115],\n",
       "       [0.45990214, 0.54009786],\n",
       "       [0.5673361 , 0.4326639 ],\n",
       "       [0.426426  , 0.573574  ],\n",
       "       [0.50404204, 0.49595796],\n",
       "       [0.41343256, 0.58656744],\n",
       "       [0.67269529, 0.32730471],\n",
       "       [0.58723433, 0.41276567],\n",
       "       [0.51907906, 0.48092094],\n",
       "       [0.58319799, 0.41680201],\n",
       "       [0.44815847, 0.55184153],\n",
       "       [0.23681713, 0.76318287],\n",
       "       [0.4473407 , 0.5526593 ],\n",
       "       [0.50033195, 0.49966805],\n",
       "       [0.60825787, 0.39174213],\n",
       "       [0.49553668, 0.50446332],\n",
       "       [0.66486805, 0.33513195],\n",
       "       [0.5143615 , 0.4856385 ],\n",
       "       [0.51110763, 0.48889237],\n",
       "       [0.67995358, 0.32004642],\n",
       "       [0.49501573, 0.50498427],\n",
       "       [0.4973385 , 0.5026615 ],\n",
       "       [0.45160089, 0.54839911],\n",
       "       [0.55897061, 0.44102939],\n",
       "       [0.67583922, 0.32416078],\n",
       "       [0.43616609, 0.56383391],\n",
       "       [0.68158951, 0.31841049],\n",
       "       [0.51346377, 0.48653623],\n",
       "       [0.5752447 , 0.4247553 ],\n",
       "       [0.62156719, 0.37843281],\n",
       "       [0.5865345 , 0.4134655 ],\n",
       "       [0.44862469, 0.55137531],\n",
       "       [0.52159912, 0.47840088],\n",
       "       [0.11408654, 0.88591346],\n",
       "       [0.64541998, 0.35458002],\n",
       "       [0.33321292, 0.66678708],\n",
       "       [0.44434021, 0.55565979],\n",
       "       [0.67626216, 0.32373784],\n",
       "       [0.13899278, 0.86100722],\n",
       "       [0.29052816, 0.70947184],\n",
       "       [0.47987801, 0.52012199],\n",
       "       [0.42601571, 0.57398429],\n",
       "       [0.60331018, 0.39668982],\n",
       "       [0.14369474, 0.85630526],\n",
       "       [0.60756266, 0.39243734],\n",
       "       [0.41820221, 0.58179779],\n",
       "       [0.11204137, 0.88795863],\n",
       "       [0.14084732, 0.85915268],\n",
       "       [0.44904707, 0.55095293],\n",
       "       [0.6254228 , 0.3745772 ],\n",
       "       [0.61028738, 0.38971262],\n",
       "       [0.56532052, 0.43467948],\n",
       "       [0.15710229, 0.84289771],\n",
       "       [0.45205945, 0.54794055],\n",
       "       [0.65812385, 0.34187615],\n",
       "       [0.40301825, 0.59698175],\n",
       "       [0.2626397 , 0.7373603 ],\n",
       "       [0.57236486, 0.42763514],\n",
       "       [0.64284064, 0.35715936],\n",
       "       [0.63858406, 0.36141594],\n",
       "       [0.62040149, 0.37959851],\n",
       "       [0.44330854, 0.55669146],\n",
       "       [0.1721854 , 0.8278146 ],\n",
       "       [0.53948575, 0.46051425],\n",
       "       [0.61784861, 0.38215139],\n",
       "       [0.40115876, 0.59884124],\n",
       "       [0.43597414, 0.56402586],\n",
       "       [0.61967686, 0.38032314],\n",
       "       [0.12999447, 0.87000553],\n",
       "       [0.67997195, 0.32002805],\n",
       "       [0.67331408, 0.32668592],\n",
       "       [0.67549664, 0.32450336],\n",
       "       [0.63458722, 0.36541278],\n",
       "       [0.52266143, 0.47733857],\n",
       "       [0.62364539, 0.37635461],\n",
       "       [0.59554894, 0.40445106],\n",
       "       [0.67879782, 0.32120218],\n",
       "       [0.66621585, 0.33378415],\n",
       "       [0.48742385, 0.51257615],\n",
       "       [0.1662674 , 0.8337326 ],\n",
       "       [0.67451956, 0.32548044],\n",
       "       [0.5801272 , 0.4198728 ],\n",
       "       [0.5230033 , 0.4769967 ],\n",
       "       [0.51532377, 0.48467623],\n",
       "       [0.53866918, 0.46133082],\n",
       "       [0.4667404 , 0.5332596 ],\n",
       "       [0.67713715, 0.32286285],\n",
       "       [0.60711782, 0.39288218],\n",
       "       [0.14177258, 0.85822742],\n",
       "       [0.37021453, 0.62978547],\n",
       "       [0.53217469, 0.46782531],\n",
       "       [0.6365034 , 0.3634966 ],\n",
       "       [0.2328186 , 0.7671814 ],\n",
       "       [0.17512438, 0.82487562],\n",
       "       [0.46605633, 0.53394367],\n",
       "       [0.68221291, 0.31778709],\n",
       "       [0.4270566 , 0.5729434 ],\n",
       "       [0.1844265 , 0.8155735 ],\n",
       "       [0.47550181, 0.52449819],\n",
       "       [0.67807511, 0.32192489],\n",
       "       [0.66329585, 0.33670415],\n",
       "       [0.42442618, 0.57557382],\n",
       "       [0.19381974, 0.80618026],\n",
       "       [0.18595416, 0.81404584],\n",
       "       [0.67965958, 0.32034042],\n",
       "       [0.55166967, 0.44833033],\n",
       "       [0.48260356, 0.51739644],\n",
       "       [0.44244992, 0.55755008],\n",
       "       [0.58469393, 0.41530607],\n",
       "       [0.66662796, 0.33337204],\n",
       "       [0.55594247, 0.44405753],\n",
       "       [0.37423306, 0.62576694],\n",
       "       [0.62835959, 0.37164041],\n",
       "       [0.46999619, 0.53000381],\n",
       "       [0.4060282 , 0.5939718 ],\n",
       "       [0.44123603, 0.55876397],\n",
       "       [0.51270716, 0.48729284]])"
      ]
     },
     "execution_count": 11,
     "metadata": {},
     "output_type": "execute_result"
    }
   ],
   "source": [
    "Y_prob = cls.predict_proba(X)\n",
    "Y_prob"
   ]
  },
  {
   "cell_type": "code",
   "execution_count": 12,
   "metadata": {},
   "outputs": [
    {
     "data": {
      "text/plain": [
       "array([1, 0, 0, 1, 0, 1, 0, 1, 1, 1, 1, 0, 0, 0, 1, 1, 0, 1, 1, 1, 1, 0,\n",
       "       0, 0, 1, 1, 0, 1, 1, 1, 1, 1, 0, 1, 0, 1, 0, 0, 1, 0, 0, 0, 0, 1,\n",
       "       0, 1, 0, 0, 0, 0, 1, 1, 1, 0, 0, 1, 0, 0, 1, 1, 1, 1, 0, 0, 1, 1,\n",
       "       0, 0, 1, 0, 1, 1, 1, 1, 1, 1, 1, 1, 1, 0, 0, 1, 1, 1, 1, 1, 0, 1,\n",
       "       1, 0, 0, 1, 1, 0, 0, 0, 1, 0, 0, 0, 1, 1, 0, 0, 0, 1, 1, 0, 0, 1,\n",
       "       1, 1, 0, 1, 0, 0, 0, 1])"
      ]
     },
     "execution_count": 12,
     "metadata": {},
     "output_type": "execute_result"
    }
   ],
   "source": [
    "Y_hat = cls.predict(X)\n",
    "Y_hat"
   ]
  },
  {
   "cell_type": "code",
   "execution_count": 13,
   "metadata": {},
   "outputs": [
    {
     "data": {
      "text/plain": [
       "0.6949152542372882"
      ]
     },
     "execution_count": 13,
     "metadata": {},
     "output_type": "execute_result"
    }
   ],
   "source": [
    "accuracy_score(Y, Y_hat)"
   ]
  },
  {
   "cell_type": "code",
   "execution_count": 14,
   "metadata": {},
   "outputs": [
    {
     "data": {
      "image/png": "[encoded data removed]",
      "text/plain": [
       "<Figure size 432x288 with 1 Axes>"
      ]
     },
     "metadata": {
      "needs_background": "light"
     },
     "output_type": "display_data"
    }
   ],
   "source": [
    "plot_data(X, Y)\n",
    "plot_surface(cls, X[:, 0], X[:, 1])"
   ]
  },
  {
   "cell_type": "markdown",
   "metadata": {},
   "source": [
    "Зверніть увагу на границю прийняття рішення. Модель старається побудувати складну криву, що може свідчити про її перетренування. Порівняйте отримані результати з класом з sklearn. Спробуйте додати нові шари для нашого класу та порівняти результати тоді. Поекспериментуйте з гіперпараметрами для обох класів."
   ]
  },
  {
   "cell_type": "code",
   "execution_count": 15,
   "metadata": {},
   "outputs": [],
   "source": [
    "from sklearn.neural_network import MLPClassifier\n",
    "clf = MLPClassifier(hidden_layer_sizes = (5,10,), max_iter = 10000, activation = 'relu', solver = 'sgd', learning_rate_init = 0.01, learning_rate = 'constant')"
   ]
  },
  {
   "cell_type": "code",
   "execution_count": 16,
   "metadata": {},
   "outputs": [
    {
     "data": {
      "text/plain": [
       "MLPClassifier(hidden_layer_sizes=(5, 10), learning_rate_init=0.01,\n",
       "              max_iter=10000, solver='sgd')"
      ]
     },
     "execution_count": 16,
     "metadata": {},
     "output_type": "execute_result"
    }
   ],
   "source": [
    "clf.fit(X, Y)"
   ]
  },
  {
   "cell_type": "code",
   "execution_count": 17,
   "metadata": {},
   "outputs": [
    {
     "data": {
      "image/png": "[encoded data removed]",
      "text/plain": [
       "<Figure size 432x288 with 1 Axes>"
      ]
     },
     "metadata": {
      "needs_background": "light"
     },
     "output_type": "display_data"
    }
   ],
   "source": [
    "plot_data(X, Y)\n",
    "plot_surface(clf, X[:, 0], X[:, 1])"
   ]
  },
  {
   "cell_type": "code",
   "execution_count": 18,
   "metadata": {},
   "outputs": [
    {
     "data": {
      "text/plain": [
       "0.8389830508474576"
      ]
     },
     "execution_count": 18,
     "metadata": {},
     "output_type": "execute_result"
    }
   ],
   "source": [
    "accuracy_score(Y, clf.predict(X))"
   ]
  },
  {
   "cell_type": "code",
   "execution_count": 19,
   "metadata": {},
   "outputs": [
    {
     "data": {
      "text/plain": [
       "1083"
      ]
     },
     "execution_count": 19,
     "metadata": {},
     "output_type": "execute_result"
    }
   ],
   "source": [
    "clf.n_iter_"
   ]
  },
  {
   "cell_type": "code",
   "execution_count": null,
   "metadata": {},
   "outputs": [],
   "source": []
  }
 ],
 "metadata": {
  "anaconda-cloud": {},
  "kernelspec": {
   "display_name": "Python 3",
   "language": "python",
   "name": "python3"
  },
  "language_info": {
   "codemirror_mode": {
    "name": "ipython",
    "version": 3
   },
   "file_extension": ".py",
   "mimetype": "text/x-python",
   "name": "python",
   "nbconvert_exporter": "python",
   "pygments_lexer": "ipython3",
   "version": "3.8.5"
  }
 },
 "nbformat": 4,
 "nbformat_minor": 1
}
