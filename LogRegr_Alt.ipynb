{
 "cells": [
  {
   "cell_type": "code",
   "execution_count": 1,
   "metadata": {},
   "outputs": [],
   "source": [
    "import numpy as np\n",
    "import pandas as pd\n",
    "from sklearn.model_selection import train_test_split\n",
    "from mpl_toolkits.mplot3d import Axes3D\n",
    "import matplotlib.pyplot as plt\n",
    "\n",
    "from matplotlib.colors import ListedColormap\n",
    "cm_bright = ListedColormap(['#FF0000', '#0000FF'])\n",
    "%matplotlib inline"
   ]
  },
  {
   "cell_type": "code",
   "execution_count": 2,
   "metadata": {},
   "outputs": [],
   "source": [
    "def normalize(X):\n",
    "    n = X.shape[0]\n",
    "    mean = np.mean(X, axis=1).reshape((n, 1))\n",
    "    std = np.std(X, axis=1).reshape((n, 1))\n",
    "    X_new = (X - mean) / std**2\n",
    "    return X_new, mean, std"
   ]
  },
  {
   "cell_type": "code",
   "execution_count": 3,
   "metadata": {},
   "outputs": [],
   "source": [
    "def sigmoid(Z):\n",
    "    return 1 / (1 + np.exp(-Z))"
   ]
  },
  {
   "cell_type": "code",
   "execution_count": 4,
   "metadata": {},
   "outputs": [],
   "source": [
    "def plot_data(X, y):\n",
    "    ax = plt.gca()\n",
    "    ax.scatter(X[:,0], X[:,1], c=(y == 1), cmap=cm_bright)"
   ]
  },
  {
   "cell_type": "code",
   "execution_count": 5,
   "metadata": {},
   "outputs": [],
   "source": [
    "def fwd_pass(X, params):\n",
    "    W = params[\"W\"]\n",
    "    b = params[\"b\"]\n",
    "    \n",
    "    Z = np.dot(W, X) + b\n",
    "    A = sigmoid(Z)\n",
    "    \n",
    "    cache = (W, b, Z, A)\n",
    "    \n",
    "    return A, cache"
   ]
  },
  {
   "cell_type": "code",
   "execution_count": 6,
   "metadata": {},
   "outputs": [],
   "source": [
    "def cost(A, Y):\n",
    "    m = Y.shape[1]\n",
    "    \n",
    "    L = - Y * np.log(A) - (1 - Y) * np.log(1 - A)\n",
    "    J = np.sum(L) / m\n",
    "    \n",
    "    return J"
   ]
  },
  {
   "cell_type": "code",
   "execution_count": 7,
   "metadata": {},
   "outputs": [],
   "source": [
    "def bwd_pass(X, Y, cache):\n",
    "    n, m = X.shape\n",
    "    (W, b, Z, A) = cache\n",
    "    \n",
    "    dZ = A - Y\n",
    "    dW = 1. / m * np.dot(X, dZ.T).reshape((1, n))\n",
    "    db = 1. / m * np.sum(dZ)\n",
    "    \n",
    "    grads = {\"dW\" : dW, \"db\" : db, \"dZ\" : dZ}\n",
    "    return grads"
   ]
  },
  {
   "cell_type": "code",
   "execution_count": 8,
   "metadata": {},
   "outputs": [],
   "source": [
    "def init_params(n, m):\n",
    "    W = np.random.randn(1, n) * 0.01\n",
    "    b = 0\n",
    "    \n",
    "    params = {\"W\" : W, \"b\" : b}\n",
    "    return params"
   ]
  },
  {
   "cell_type": "code",
   "execution_count": 9,
   "metadata": {},
   "outputs": [],
   "source": [
    "def update_params(params, grads, learning_rate):\n",
    "    W = params[\"W\"]\n",
    "    b = params[\"b\"]\n",
    "    \n",
    "    dW = grads[\"dW\"]\n",
    "    db = grads[\"db\"]\n",
    "    \n",
    "    params[\"W\"] = W - learning_rate * dW\n",
    "    params[\"b\"] = b - learning_rate * db\n",
    "    \n",
    "    return params"
   ]
  },
  {
   "cell_type": "code",
   "execution_count": 10,
   "metadata": {},
   "outputs": [],
   "source": [
    "def fit(X, Y, learning_rate = 0.01, num_iter = 30000, debug = False):\n",
    "    n, m = X.shape \n",
    "    params = init_params(n, m)\n",
    "    costs = []\n",
    "    for i in range(num_iter):\n",
    "        A, cache = fwd_pass(X, params)\n",
    "        curr_cost = cost(A, Y)\n",
    "        grads = bwd_pass(X, Y, cache)\n",
    "        \n",
    "        params = update_params(params, grads, learning_rate)\n",
    "        \n",
    "        if debug and i % 10 == 0:\n",
    "            print(\"{}-th iteration: {}\".format(i, curr_cost))\n",
    "            costs.append(curr_cost)\n",
    "    \n",
    "    plt.plot(costs)\n",
    "    plt.ylabel(\"Cost\")\n",
    "    plt.xlabel(\"Iteration, *10\")\n",
    "    plt.show()\n",
    "    \n",
    "    return params    "
   ]
  },
  {
   "cell_type": "code",
   "execution_count": 11,
   "metadata": {},
   "outputs": [
    {
     "name": "stdout",
     "output_type": "stream",
     "text": [
      "Training set: X=(100, 2), y=(100,)\n"
     ]
    }
   ],
   "source": [
    "data_columns = [\"exam1\", \"exam2\"]\n",
    "target_column = \"submitted\"\n",
    "df = pd.read_csv(\"sats.csv\")\n",
    "X, Y = df[data_columns].values, df[target_column]\n",
    "print('Training set: X={}, y={}'.format(X.shape, Y.shape))"
   ]
  },
  {
   "cell_type": "code",
   "execution_count": 12,
   "metadata": {},
   "outputs": [
    {
     "name": "stdout",
     "output_type": "stream",
     "text": [
      "Training set: X=(118, 2), y=(118,)\n"
     ]
    }
   ],
   "source": [
    "data_columns = [\"test1\", \"test2\"]\n",
    "target_column = \"passed\"\n",
    "df = pd.read_csv(\"tests.csv\")\n",
    "X, Y = df[data_columns].values, df[target_column]\n",
    "print('Training set: X={}, y={}'.format(X.shape, Y.shape))"
   ]
  },
  {
   "cell_type": "code",
   "execution_count": 13,
   "metadata": {},
   "outputs": [
    {
     "name": "stdout",
     "output_type": "stream",
     "text": [
      "Training set: X=(118, 7), y=(118,)\n"
     ]
    }
   ],
   "source": [
    "data_columns = [\"test1\", \"test2\", \"test1test1\", \"test2test2\", \"test1test2\", \"test1test1test1\", \"test2test2test2\"]\n",
    "target_column = \"passed\"\n",
    "df = pd.read_csv(\"testsCom.csv\")\n",
    "X, Y = df[data_columns].values, df[target_column]\n",
    "print('Training set: X={}, y={}'.format(X.shape, Y.shape))"
   ]
  },
  {
   "cell_type": "code",
   "execution_count": 14,
   "metadata": {},
   "outputs": [
    {
     "data": {
      "image/png": "[encoded data removed]",
      "text/plain": [
       "<Figure size 432x288 with 1 Axes>"
      ]
     },
     "metadata": {
      "needs_background": "light"
     },
     "output_type": "display_data"
    }
   ],
   "source": [
    "plot_data(X, Y)"
   ]
  },
  {
   "cell_type": "code",
   "execution_count": 15,
   "metadata": {},
   "outputs": [],
   "source": [
    "Y = Y.values.reshape((df.shape[0], 1))"
   ]
  },
  {
   "cell_type": "code",
   "execution_count": 16,
   "metadata": {},
   "outputs": [],
   "source": [
    "X, Y = X.T, Y.T"
   ]
  },
  {
   "cell_type": "code",
   "execution_count": 17,
   "metadata": {},
   "outputs": [],
   "source": [
    "X, mean, std = normalize(X)"
   ]
  },
  {
   "cell_type": "code",
   "execution_count": 18,
   "metadata": {},
   "outputs": [
    {
     "data": {
      "text/plain": [
       "array([[-0.60317345, -0.01435925, -1.09777917, -1.75725074, -2.32251793],\n",
       "       [ 1.87362608,  1.92821021,  1.90091814,  1.19132449,  1.05486417],\n",
       "       [-3.90194657, -3.99946939, -3.29665705, -1.74627385,  0.25880084],\n",
       "       [ 2.0899842 ,  2.34213524,  2.21539406, -0.61258054, -1.05324385],\n",
       "       [-0.76431824,  1.23204463, -2.46000243, -3.2711155 , -4.28888063],\n",
       "       [-0.81067086, -0.79820379, -0.93050954, -1.50509379, -2.60774817],\n",
       "       [ 1.69714712,  1.89645037,  1.79574649, -0.1488716 , -0.39246017]])"
      ]
     },
     "execution_count": 18,
     "metadata": {},
     "output_type": "execute_result"
    }
   ],
   "source": [
    "X[:,:5]"
   ]
  },
  {
   "cell_type": "code",
   "execution_count": 19,
   "metadata": {},
   "outputs": [
    {
     "data": {
      "text/plain": [
       "(1, 118)"
      ]
     },
     "execution_count": 19,
     "metadata": {},
     "output_type": "execute_result"
    }
   ],
   "source": [
    "Y.shape"
   ]
  },
  {
   "cell_type": "code",
   "execution_count": 20,
   "metadata": {},
   "outputs": [
    {
     "data": {
      "text/plain": [
       "array([[ 0.05477891],\n",
       "       [ 0.18310156],\n",
       "       [ 0.24757534],\n",
       "       [ 0.30136961],\n",
       "       [-0.02547184],\n",
       "       [ 0.05983333],\n",
       "       [ 0.14235001]])"
      ]
     },
     "execution_count": 20,
     "metadata": {},
     "output_type": "execute_result"
    }
   ],
   "source": [
    "mean"
   ]
  },
  {
   "cell_type": "code",
   "execution_count": 21,
   "metadata": {},
   "outputs": [
    {
     "data": {
      "text/plain": [
       "array([[0.49454485],\n",
       "       [0.51753592],\n",
       "       [0.24747703],\n",
       "       [0.28332819],\n",
       "       [0.22312342],\n",
       "       [0.27347972],\n",
       "       [0.32474925]])"
      ]
     },
     "execution_count": 21,
     "metadata": {},
     "output_type": "execute_result"
    }
   ],
   "source": [
    "std"
   ]
  },
  {
   "cell_type": "code",
   "execution_count": 22,
   "metadata": {},
   "outputs": [
    {
     "name": "stdout",
     "output_type": "stream",
     "text": [
      "0-th iteration: 0.7011691681674055\n",
      "10-th iteration: 0.48117425617476445\n",
      "20-th iteration: 0.43393242991745157\n",
      "30-th iteration: 0.40992923315153434\n",
      "40-th iteration: 0.3955858722133933\n",
      "50-th iteration: 0.3860480570300661\n",
      "60-th iteration: 0.3792228329008545\n",
      "70-th iteration: 0.3740785277930249\n",
      "80-th iteration: 0.3700518457799706\n",
      "90-th iteration: 0.3668098777153577\n",
      "100-th iteration: 0.36414310072271466\n",
      "110-th iteration: 0.3619127176412678\n",
      "120-th iteration: 0.3600227855351273\n",
      "130-th iteration: 0.35840456076702654\n",
      "140-th iteration: 0.35700725951072565\n",
      "150-th iteration: 0.3557923705894543\n",
      "160-th iteration: 0.3547300254914683\n",
      "170-th iteration: 0.3537966064675652\n",
      "180-th iteration: 0.35297312515031376\n",
      "190-th iteration: 0.352244095107151\n",
      "200-th iteration: 0.3515967295092241\n",
      "210-th iteration: 0.35102035797708053\n",
      "220-th iteration: 0.3505059944494026\n",
      "230-th iteration: 0.35004601123110546\n",
      "240-th iteration: 0.34963388910098253\n",
      "250-th iteration: 0.3492640228605596\n",
      "260-th iteration: 0.34893156795826424\n",
      "270-th iteration: 0.34863231801220623\n",
      "280-th iteration: 0.34836260590904855\n",
      "290-th iteration: 0.3481192231317299\n",
      "300-th iteration: 0.34789935335620326\n",
      "310-th iteration: 0.34770051734556445\n",
      "320-th iteration: 0.34752052688329726\n",
      "330-th iteration: 0.34735744600892987\n",
      "340-th iteration: 0.34720955820541965\n",
      "350-th iteration: 0.3470753384766914\n",
      "360-th iteration: 0.34695342947270313\n",
      "370-th iteration: 0.3468426209870339\n",
      "380-th iteration: 0.3467418322816472\n",
      "390-th iteration: 0.34665009679473807\n",
      "400-th iteration: 0.34656654886740584\n",
      "410-th iteration: 0.346490412188365\n",
      "420-th iteration: 0.3464209897068011\n",
      "430-th iteration: 0.34635765480458447\n",
      "440-th iteration: 0.34629984355251114\n",
      "450-th iteration: 0.34624704790262795\n",
      "460-th iteration: 0.34619880969127714\n",
      "470-th iteration: 0.34615471534620523\n",
      "480-th iteration: 0.3461143912066587\n",
      "490-th iteration: 0.3460774993784398\n",
      "500-th iteration: 0.34604373405686123\n",
      "510-th iteration: 0.3460128182597962\n",
      "520-th iteration: 0.34598450092086735\n",
      "530-th iteration: 0.3459585542994937\n",
      "540-th iteration: 0.3459347716702014\n",
      "550-th iteration: 0.34591296525848286\n",
      "560-th iteration: 0.34589296439466166\n",
      "570-th iteration: 0.3458746138608274\n",
      "580-th iteration: 0.3458577724089939\n",
      "590-th iteration: 0.3458423114313339\n",
      "600-th iteration: 0.3458281137656498\n",
      "610-th iteration: 0.34581507262127104\n",
      "620-th iteration: 0.34580309061231984\n",
      "630-th iteration: 0.34579207888681407\n",
      "640-th iteration: 0.3457819563414196\n",
      "650-th iteration: 0.3457726489128255\n",
      "660-th iteration: 0.3457640889377454\n",
      "670-th iteration: 0.34575621457444256\n",
      "680-th iteration: 0.3457489692794699\n",
      "690-th iteration: 0.3457423013340079\n",
      "700-th iteration: 0.3457361634147975\n",
      "710-th iteration: 0.3457305122052057\n",
      "720-th iteration: 0.34572530804244034\n",
      "730-th iteration: 0.34572051459735104\n",
      "740-th iteration: 0.34571609858363117\n",
      "750-th iteration: 0.3457120294935655\n",
      "760-th iteration: 0.34570827935776455\n",
      "770-th iteration: 0.34570482252659057\n",
      "780-th iteration: 0.3457016354712107\n",
      "790-th iteration: 0.34569869660242397\n",
      "800-th iteration: 0.3456959861055936\n",
      "810-th iteration: 0.34569348579018216\n",
      "820-th iteration: 0.34569117895253426\n",
      "830-th iteration: 0.3456890502506879\n",
      "840-th iteration: 0.345687085590108\n",
      "850-th iteration: 0.3456852720193515\n",
      "860-th iteration: 0.3456835976347574\n",
      "870-th iteration: 0.3456820514933542\n",
      "880-th iteration: 0.34568062353324147\n",
      "890-th iteration: 0.345679304500782\n",
      "900-th iteration: 0.3456780858839981\n",
      "910-th iteration: 0.34567695985162145\n",
      "920-th iteration: 0.345675919197302\n",
      "930-th iteration: 0.34567495728852105\n",
      "940-th iteration: 0.34567406801979916\n",
      "950-th iteration: 0.3456732457698233\n",
      "960-th iteration: 0.3456724853621573\n",
      "970-th iteration: 0.34567178202922433\n",
      "980-th iteration: 0.3456711313792796\n",
      "990-th iteration: 0.34567052936611925\n",
      "1000-th iteration: 0.3456699722612908\n",
      "1010-th iteration: 0.34566945662859233\n",
      "1020-th iteration: 0.3456689793006674\n",
      "1030-th iteration: 0.3456685373575177\n",
      "1040-th iteration: 0.3456681281067726\n",
      "1050-th iteration: 0.3456677490655676\n",
      "1060-th iteration: 0.34566739794389795\n",
      "1070-th iteration: 0.34566707262932395\n",
      "1080-th iteration: 0.3456667711729137\n",
      "1090-th iteration: 0.3456664917763245\n",
      "1100-th iteration: 0.3456662327799249\n",
      "1110-th iteration: 0.345665992651873\n",
      "1120-th iteration: 0.3456657699780728\n",
      "1130-th iteration: 0.3456655634529361\n",
      "1140-th iteration: 0.3456653718708826\n",
      "1150-th iteration: 0.3456651941185199\n",
      "1160-th iteration: 0.34566502916744796\n",
      "1170-th iteration: 0.3456648760676333\n",
      "1180-th iteration: 0.3456647339413132\n",
      "1190-th iteration: 0.34566460197738036\n",
      "1200-th iteration: 0.3456644794262149\n",
      "1210-th iteration: 0.34566436559492236\n",
      "1220-th iteration: 0.3456642598429491\n",
      "1230-th iteration: 0.3456641615780424\n",
      "1240-th iteration: 0.3456640702525288\n",
      "1250-th iteration: 0.345663985359885\n",
      "1260-th iteration: 0.3456639064315757\n",
      "1270-th iteration: 0.3456638330341419\n",
      "1280-th iteration: 0.3456637647665143\n",
      "1290-th iteration: 0.3456637012575382\n",
      "1300-th iteration: 0.3456636421636894\n",
      "1310-th iteration: 0.34566358716697027\n",
      "1320-th iteration: 0.3456635359729667\n",
      "1330-th iteration: 0.3456634883090578\n",
      "1340-th iteration: 0.3456634439227626\n",
      "1350-th iteration: 0.3456634025802166\n",
      "1360-th iteration: 0.345663364064764\n",
      "1370-th iteration: 0.34566332817565937\n",
      "1380-th iteration: 0.3456632947268702\n",
      "1390-th iteration: 0.34566326354596927\n",
      "1400-th iteration: 0.34566323447311464\n",
      "1410-th iteration: 0.3456632073601055\n",
      "1420-th iteration: 0.34566318206951235\n",
      "1430-th iteration: 0.3456631584738718\n",
      "1440-th iteration: 0.34566313645494495\n",
      "1450-th iteration: 0.345663115903029\n",
      "1460-th iteration: 0.3456630967163259\n",
      "1470-th iteration: 0.3456630788003539\n",
      "1480-th iteration: 0.3456630620674076\n",
      "1490-th iteration: 0.34566304643605744\n",
      "1500-th iteration: 0.3456630318306863\n",
      "1510-th iteration: 0.3456630181810627\n",
      "1520-th iteration: 0.34566300542194467\n",
      "1530-th iteration: 0.34566299349271445\n",
      "1540-th iteration: 0.3456629823370404\n",
      "1550-th iteration: 0.34566297190256334\n",
      "1560-th iteration: 0.3456629621406086\n",
      "1570-th iteration: 0.3456629530059168\n",
      "1580-th iteration: 0.34566294445639695\n",
      "1590-th iteration: 0.3456629364528969\n",
      "1600-th iteration: 0.3456629289589906\n",
      "1610-th iteration: 0.3456629219407826\n",
      "1620-th iteration: 0.34566291536672505\n",
      "1630-th iteration: 0.3456629092074501\n",
      "1640-th iteration: 0.34566290343561307\n",
      "1650-th iteration: 0.34566289802574846\n",
      "1660-th iteration: 0.3456628929541362\n",
      "1670-th iteration: 0.3456628881986767\n",
      "1680-th iteration: 0.34566288373877696\n",
      "1690-th iteration: 0.345662879555243\n",
      "1700-th iteration: 0.34566287563018205\n",
      "1710-th iteration: 0.34566287194691014\n",
      "1720-th iteration: 0.34566286848986766\n",
      "1730-th iteration: 0.34566286524454043\n",
      "1740-th iteration: 0.34566286219738657\n",
      "1750-th iteration: 0.3456628593357689\n",
      "1760-th iteration: 0.345662856647892\n",
      "1770-th iteration: 0.34566285412274356\n",
      "1780-th iteration: 0.34566285175004047\n",
      "1790-th iteration: 0.34566284952017895\n",
      "1800-th iteration: 0.3456628474241868\n",
      "1810-th iteration: 0.345662845453681\n",
      "1820-th iteration: 0.34566284360082666\n",
      "1830-th iteration: 0.3456628418583004\n",
      "1840-th iteration: 0.3456628402192546\n",
      "1850-th iteration: 0.34566283867728637\n",
      "1860-th iteration: 0.3456628372264061\n",
      "1870-th iteration: 0.3456628358610105\n",
      "1880-th iteration: 0.34566283457585645\n",
      "1890-th iteration: 0.3456628333660362\n",
      "1900-th iteration: 0.345662832226956\n",
      "1910-th iteration: 0.34566283115431423\n",
      "1920-th iteration: 0.3456628301440828\n",
      "1930-th iteration: 0.34566282919248803\n",
      "1940-th iteration: 0.34566282829599454\n",
      "1950-th iteration: 0.3456628274512894\n",
      "1960-th iteration: 0.3456628266552676\n",
      "1970-th iteration: 0.345662825905018\n",
      "1980-th iteration: 0.34566282519781116\n",
      "1990-th iteration: 0.34566282453108754\n"
     ]
    },
    {
     "data": {
      "image/png": "[encoded data removed]",
      "text/plain": [
       "<Figure size 432x288 with 1 Axes>"
      ]
     },
     "metadata": {
      "needs_background": "light"
     },
     "output_type": "display_data"
    }
   ],
   "source": [
    "params = fit(X, Y, learning_rate = 0.1, num_iter = 2000, debug = True)"
   ]
  },
  {
   "cell_type": "code",
   "execution_count": 23,
   "metadata": {},
   "outputs": [
    {
     "name": "stdout",
     "output_type": "stream",
     "text": [
      "{'W': array([[ 0.82579782,  1.31052771, -0.72786008, -0.87438478, -0.36752796,\n",
      "        -0.03494914, -0.22266723]]), 'b': -0.254431052148122}\n"
     ]
    }
   ],
   "source": [
    "print(params)"
   ]
  },
  {
   "cell_type": "code",
   "execution_count": null,
   "metadata": {},
   "outputs": [],
   "source": []
  }
 ],
 "metadata": {
  "kernelspec": {
   "display_name": "Python 3",
   "language": "python",
   "name": "python3"
  },
  "language_info": {
   "codemirror_mode": {
    "name": "ipython",
    "version": 3
   },
   "file_extension": ".py",
   "mimetype": "text/x-python",
   "name": "python",
   "nbconvert_exporter": "python",
   "pygments_lexer": "ipython3",
   "version": "3.8.5"
  }
 },
 "nbformat": 4,
 "nbformat_minor": 1
}
