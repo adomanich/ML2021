{
 "cells": [
  {
   "cell_type": "code",
   "execution_count": 1,
   "metadata": {},
   "outputs": [],
   "source": [
    "import numpy as np\n",
    "import pandas as pd\n",
    "from sklearn.model_selection import train_test_split\n",
    "from mpl_toolkits.mplot3d import Axes3D\n",
    "import matplotlib.pyplot as plt\n",
    "\n",
    "from matplotlib.colors import ListedColormap\n",
    "cm_bright = ListedColormap(['#FF0000', '#0000FF'])\n",
    "%matplotlib inline"
   ]
  },
  {
   "cell_type": "code",
   "execution_count": 2,
   "metadata": {},
   "outputs": [],
   "source": [
    "def normalize(X):\n",
    "    n = X.shape[0]\n",
    "    mean = np.mean(X, axis=1).reshape((n, 1))\n",
    "    std = np.std(X, axis=1).reshape((n, 1))\n",
    "    X_new = (X - mean) / std**2\n",
    "    return X_new, mean, std"
   ]
  },
  {
   "cell_type": "code",
   "execution_count": 3,
   "metadata": {},
   "outputs": [],
   "source": [
    "def sigmoid(Z):\n",
    "    return 1 / (1 + np.exp(-Z))"
   ]
  },
  {
   "cell_type": "code",
   "execution_count": 4,
   "metadata": {},
   "outputs": [],
   "source": [
    "def plot_data(X, y):\n",
    "    ax = plt.gca()\n",
    "    ax.scatter(X[:,0], X[:,1], c=(y == 1), cmap=cm_bright)"
   ]
  },
  {
   "cell_type": "code",
   "execution_count": 5,
   "metadata": {},
   "outputs": [],
   "source": [
    "def fwd_pass(X, params):\n",
    "    W = params[\"W\"]\n",
    "    b = params[\"b\"]\n",
    "    \n",
    "    Z = np.dot(W, X) + b\n",
    "    A = sigmoid(Z)\n",
    "    \n",
    "    cache = (W, b, Z, A)\n",
    "    \n",
    "    return A, cache"
   ]
  },
  {
   "cell_type": "code",
   "execution_count": 6,
   "metadata": {},
   "outputs": [],
   "source": [
    "def cost(A, Y):\n",
    "    m = Y.shape[1]\n",
    "    \n",
    "    L = - Y * np.log(A) - (1 - Y) * np.log(1 - A)\n",
    "    J = np.sum(L) / m\n",
    "    \n",
    "    return J"
   ]
  },
  {
   "cell_type": "code",
   "execution_count": 7,
   "metadata": {},
   "outputs": [],
   "source": [
    "def bwd_pass(X, Y, cache):\n",
    "    n, m = X.shape\n",
    "    (W, b, Z, A) = cache\n",
    "    \n",
    "    dZ = A - Y\n",
    "    dW = 1. / m * np.dot(X, dZ.T).reshape((1, n))\n",
    "    db = 1. / m * np.sum(dZ)\n",
    "    \n",
    "    grads = {\"dW\" : dW, \"db\" : db, \"dZ\" : dZ}\n",
    "    return grads"
   ]
  },
  {
   "cell_type": "code",
   "execution_count": 8,
   "metadata": {},
   "outputs": [],
   "source": [
    "def init_params(n, m):\n",
    "    W = np.random.randn(1, n) * 0.01\n",
    "    b = 0\n",
    "    \n",
    "    params = {\"W\" : W, \"b\" : b}\n",
    "    return params"
   ]
  },
  {
   "cell_type": "code",
   "execution_count": 9,
   "metadata": {},
   "outputs": [],
   "source": [
    "def update_params(params, grads, learning_rate):\n",
    "    W = params[\"W\"]\n",
    "    b = params[\"b\"]\n",
    "    \n",
    "    dW = grads[\"dW\"]\n",
    "    db = grads[\"db\"]\n",
    "    \n",
    "    params[\"W\"] = W - learning_rate * dW\n",
    "    params[\"b\"] = b - learning_rate * db\n",
    "    \n",
    "    return params"
   ]
  },
  {
   "cell_type": "code",
   "execution_count": 10,
   "metadata": {},
   "outputs": [],
   "source": [
    "def fit(X, Y, learning_rate = 0.01, num_iter = 30000, debug = False):\n",
    "    n, m = X.shape \n",
    "    params = init_params(n, m)\n",
    "    costs = []\n",
    "    for i in range(num_iter):\n",
    "        A, cache = fwd_pass(X, params)\n",
    "        curr_cost = cost(A, Y)\n",
    "        grads = bwd_pass(X, Y, cache)\n",
    "        \n",
    "        params = update_params(params, grads, learning_rate)\n",
    "        \n",
    "        if debug and i % 10 == 0:\n",
    "            print(\"{}-th iteration: {}\".format(i, curr_cost))\n",
    "            costs.append(curr_cost)\n",
    "    \n",
    "    plt.plot(costs)\n",
    "    plt.ylabel(\"Cost\")\n",
    "    plt.xlabel(\"Iteration, *10\")\n",
    "    plt.show()\n",
    "    \n",
    "    return params    "
   ]
  },
  {
   "cell_type": "code",
   "execution_count": 11,
   "metadata": {},
   "outputs": [
    {
     "name": "stdout",
     "output_type": "stream",
     "text": [
      "Training set: X=(100, 2), y=(100,)\n"
     ]
    }
   ],
   "source": [
    "data_columns = [\"exam1\", \"exam2\"]\n",
    "target_column = \"submitted\"\n",
    "df = pd.read_csv(\"sats.csv\")\n",
    "X, Y = df[data_columns].values, df[target_column]\n",
    "print('Training set: X={}, y={}'.format(X.shape, Y.shape))"
   ]
  },
  {
   "cell_type": "code",
   "execution_count": 12,
   "metadata": {},
   "outputs": [
    {
     "name": "stdout",
     "output_type": "stream",
     "text": [
      "Training set: X=(118, 2), y=(118,)\n"
     ]
    }
   ],
   "source": [
    "data_columns = [\"test1\", \"test2\"]\n",
    "target_column = \"passed\"\n",
    "df = pd.read_csv(\"tests.csv\")\n",
    "X, Y = df[data_columns].values, df[target_column]\n",
    "print('Training set: X={}, y={}'.format(X.shape, Y.shape))"
   ]
  },
  {
   "cell_type": "code",
   "execution_count": 13,
   "metadata": {},
   "outputs": [
    {
     "name": "stdout",
     "output_type": "stream",
     "text": [
      "Training set: X=(118, 7), y=(118,)\n"
     ]
    }
   ],
   "source": [
    "data_columns = [\"test1\", \"test2\", \"test1test1\", \"test2test2\", \"test1test2\", \"test1test1test1\", \"test2test2test2\"]\n",
    "target_column = \"passed\"\n",
    "df = pd.read_csv(\"testsCom.csv\")\n",
    "X, Y = df[data_columns].values, df[target_column]\n",
    "print('Training set: X={}, y={}'.format(X.shape, Y.shape))"
   ]
  },
  {
   "cell_type": "code",
   "execution_count": 14,
   "metadata": {},
   "outputs": [
    {
     "data": {
      "image/png": "[encoded data removed]",
      "text/plain": [
       "<Figure size 432x288 with 1 Axes>"
      ]
     },
     "metadata": {
      "needs_background": "light"
     },
     "output_type": "display_data"
    }
   ],
   "source": [
    "plot_data(X, Y)"
   ]
  },
  {
   "cell_type": "code",
   "execution_count": 15,
   "metadata": {},
   "outputs": [],
   "source": [
    "Y = Y.values.reshape((df.shape[0], 1))"
   ]
  },
  {
   "cell_type": "code",
   "execution_count": 16,
   "metadata": {},
   "outputs": [],
   "source": [
    "X, Y = X.T, Y.T"
   ]
  },
  {
   "cell_type": "code",
   "execution_count": 17,
   "metadata": {},
   "outputs": [],
   "source": [
    "X, mean, std = normalize(X)"
   ]
  },
  {
   "cell_type": "code",
   "execution_count": 18,
   "metadata": {},
   "outputs": [
    {
     "data": {
      "text/plain": [
       "array([[-0.60317345, -0.01435925, -1.09777917, -1.75725074, -2.32251793],\n",
       "       [ 1.87362608,  1.92821021,  1.90091814,  1.19132449,  1.05486417],\n",
       "       [-3.90194657, -3.99946939, -3.29665705, -1.74627385,  0.25880084],\n",
       "       [ 2.0899842 ,  2.34213524,  2.21539406, -0.61258054, -1.05324385],\n",
       "       [-0.76431824,  1.23204463, -2.46000243, -3.2711155 , -4.28888063],\n",
       "       [-0.81067086, -0.79820379, -0.93050954, -1.50509379, -2.60774817],\n",
       "       [ 1.69714712,  1.89645037,  1.79574649, -0.1488716 , -0.39246017]])"
      ]
     },
     "execution_count": 18,
     "metadata": {},
     "output_type": "execute_result"
    }
   ],
   "source": [
    "X[:,:5]"
   ]
  },
  {
   "cell_type": "code",
   "execution_count": 19,
   "metadata": {},
   "outputs": [
    {
     "data": {
      "text/plain": [
       "(1, 118)"
      ]
     },
     "execution_count": 19,
     "metadata": {},
     "output_type": "execute_result"
    }
   ],
   "source": [
    "Y.shape"
   ]
  },
  {
   "cell_type": "code",
   "execution_count": 20,
   "metadata": {},
   "outputs": [
    {
     "data": {
      "text/plain": [
       "array([[ 0.05477891],\n",
       "       [ 0.18310156],\n",
       "       [ 0.24757534],\n",
       "       [ 0.30136961],\n",
       "       [-0.02547184],\n",
       "       [ 0.05983333],\n",
       "       [ 0.14235001]])"
      ]
     },
     "execution_count": 20,
     "metadata": {},
     "output_type": "execute_result"
    }
   ],
   "source": [
    "mean"
   ]
  },
  {
   "cell_type": "code",
   "execution_count": 21,
   "metadata": {},
   "outputs": [
    {
     "data": {
      "text/plain": [
       "array([[0.49454485],\n",
       "       [0.51753592],\n",
       "       [0.24747703],\n",
       "       [0.28332819],\n",
       "       [0.22312342],\n",
       "       [0.27347972],\n",
       "       [0.32474925]])"
      ]
     },
     "execution_count": 21,
     "metadata": {},
     "output_type": "execute_result"
    }
   ],
   "source": [
    "std"
   ]
  },
  {
   "cell_type": "code",
   "execution_count": 22,
   "metadata": {},
   "outputs": [
    {
     "name": "stdout",
     "output_type": "stream",
     "text": [
      "0-th iteration: 0.6884335050142879\n",
      "10-th iteration: 0.4786534439978913\n",
      "20-th iteration: 0.4326084097550299\n",
      "30-th iteration: 0.4091205766051642\n",
      "40-th iteration: 0.395030388365622\n",
      "50-th iteration: 0.3856364149356934\n",
      "60-th iteration: 0.3789022409259212\n",
      "70-th iteration: 0.37382026877922186\n",
      "80-th iteration: 0.3698387907205635\n",
      "90-th iteration: 0.3666310458537087\n",
      "100-th iteration: 0.3639910372818231\n",
      "110-th iteration: 0.36178212245295055\n",
      "120-th iteration: 0.3599097463774123\n",
      "130-th iteration: 0.35830610021309267\n",
      "140-th iteration: 0.3569210540870548\n",
      "150-th iteration: 0.3557165694424266\n",
      "160-th iteration: 0.3546631290247626\n",
      "170-th iteration: 0.3537373824971882\n",
      "180-th iteration: 0.3529205493211258\n",
      "190-th iteration: 0.35219730747201045\n",
      "200-th iteration: 0.351555002169233\n",
      "210-th iteration: 0.3509830704796221\n",
      "220-th iteration: 0.35047261475055236\n",
      "230-th iteration: 0.3500160807318764\n",
      "240-th iteration: 0.34960701072256617\n",
      "250-th iteration: 0.3492398514256382\n",
      "260-th iteration: 0.3489098023495577\n",
      "270-th iteration: 0.3486126947200121\n",
      "280-th iteration: 0.34834489367811117\n",
      "290-th iteration: 0.3481032184880722\n",
      "300-th iteration: 0.34788487684547764\n",
      "310-th iteration: 0.3476874103519301\n",
      "320-th iteration: 0.3475086489257675\n",
      "330-th iteration: 0.34734667243324097\n",
      "340-th iteration: 0.3471997782056415\n",
      "350-th iteration: 0.34706645339330827\n",
      "360-th iteration: 0.34694535132368476\n",
      "370-th iteration: 0.34683527119616686\n",
      "380-th iteration: 0.3467351405745636\n",
      "390-th iteration: 0.3466440002380544\n",
      "400-th iteration: 0.3465609910304073\n",
      "410-th iteration: 0.34648534240996004\n",
      "420-th iteration: 0.34641636245316937\n",
      "430-th iteration: 0.3463534291051736\n",
      "440-th iteration: 0.34629598250388655\n",
      "450-th iteration: 0.34624351823122745\n",
      "460-th iteration: 0.3461955813674161\n",
      "470-th iteration: 0.3461517612427651\n",
      "480-th iteration: 0.34611168679681287\n",
      "490-th iteration: 0.34607502246755023\n",
      "500-th iteration: 0.34604146454433743\n",
      "510-th iteration: 0.3460107379272746\n",
      "520-th iteration: 0.34598259324355063\n",
      "530-th iteration: 0.3459568042779003\n",
      "540-th iteration: 0.3459331656799323\n",
      "550-th iteration: 0.3459114909159135\n",
      "560-th iteration: 0.34589161043673594\n",
      "570-th iteration: 0.3458733700373479\n",
      "580-th iteration: 0.3458566293860121\n",
      "590-th iteration: 0.34584126070439997\n",
      "600-th iteration: 0.3458271475818434\n",
      "610-th iteration: 0.34581418390905344\n",
      "620-th iteration: 0.34580227291836446\n",
      "630-th iteration: 0.3457913263190707\n",
      "640-th iteration: 0.3457812635177525\n",
      "650-th iteration: 0.34577201091463977\n",
      "660-th iteration: 0.3457635012680841\n",
      "670-th iteration: 0.34575567312009486\n",
      "680-th iteration: 0.34574847027667927\n",
      "690-th iteration: 0.345741841337415\n",
      "700-th iteration: 0.34573573926929496\n",
      "710-th iteration: 0.34573012102041306\n",
      "720-th iteration: 0.34572494716954083\n",
      "730-th iteration: 0.3457201816080573\n",
      "740-th iteration: 0.3457157912510734\n",
      "750-th iteration: 0.3457117457749164\n",
      "760-th iteration: 0.34570801737843354\n",
      "770-th iteration: 0.345704580565838\n",
      "780-th iteration: 0.3457014119490472\n",
      "790-th iteration: 0.3456984900676746\n",
      "800-th iteration: 0.3456957952250176\n",
      "810-th iteration: 0.3456933093385497\n",
      "820-th iteration: 0.3456910158035731\n",
      "830-th iteration: 0.34568889936881764\n",
      "840-th iteration: 0.3456869460228943\n",
      "850-th iteration: 0.34568514289060875\n",
      "860-th iteration: 0.3456834781382484\n",
      "870-th iteration: 0.3456819408870265\n",
      "880-th iteration: 0.34568052113395753\n",
      "890-th iteration: 0.3456792096794959\n",
      "900-th iteration: 0.3456779980613417\n",
      "910-th iteration: 0.34567687849386247\n",
      "920-th iteration: 0.3456758438126413\n",
      "930-th iteration: 0.3456748874237013\n",
      "940-th iteration: 0.34567400325699454\n",
      "950-th iteration: 0.3456731857237902\n",
      "960-th iteration: 0.3456724296776199\n",
      "970-th iteration: 0.34567173037847626\n",
      "980-th iteration: 0.345671083459984\n",
      "990-th iteration: 0.34567048489928925\n",
      "1000-th iteration: 0.3456699309894348\n",
      "1010-th iteration: 0.34566941831401166\n",
      "1020-th iteration: 0.3456689437238921\n",
      "1030-th iteration: 0.34566850431586954\n",
      "1040-th iteration: 0.34566809741304466\n",
      "1050-th iteration: 0.3456677205468099\n",
      "1060-th iteration: 0.3456673714403018\n",
      "1070-th iteration: 0.34566704799319503\n",
      "1080-th iteration: 0.34566674826772875\n",
      "1090-th iteration: 0.3456664704758621\n",
      "1100-th iteration: 0.34566621296746647\n",
      "1110-th iteration: 0.3456659742194671\n",
      "1120-th iteration: 0.34566575282585826\n",
      "1130-th iteration: 0.34566554748851797\n",
      "1140-th iteration: 0.3456653570087581\n",
      "1150-th iteration: 0.34566518027955\n",
      "1160-th iteration: 0.3456650162783691\n",
      "1170-th iteration: 0.34566486406060926\n",
      "1180-th iteration: 0.34566472275352067\n",
      "1190-th iteration: 0.3456645915506284\n",
      "1200-th iteration: 0.3456644697065921\n",
      "1210-th iteration: 0.3456643565324733\n",
      "1220-th iteration: 0.345664251391375\n",
      "1230-th iteration: 0.3456641536944259\n",
      "1240-th iteration: 0.3456640628970783\n",
      "1250-th iteration: 0.3456639784957007\n",
      "1260-th iteration: 0.34566390002443254\n",
      "1270-th iteration: 0.3456638270522896\n",
      "1280-th iteration: 0.3456637591804928\n",
      "1290-th iteration: 0.34566369604000663\n",
      "1300-th iteration: 0.34566363728926947\n",
      "1310-th iteration: 0.3456635826120997\n",
      "1320-th iteration: 0.3456635317157659\n",
      "1330-th iteration: 0.34566348432920474\n",
      "1340-th iteration: 0.345663440201379\n",
      "1350-th iteration: 0.34566339909976124\n",
      "1360-th iteration: 0.34566336080893484\n",
      "1370-th iteration: 0.3456633251293035\n",
      "1380-th iteration: 0.3456632918758985\n",
      "1390-th iteration: 0.3456632608772808\n",
      "1400-th iteration: 0.3456632319745236\n",
      "1410-th iteration: 0.3456632050202755\n",
      "1420-th iteration: 0.34566317987789474\n",
      "1430-th iteration: 0.34566315642064915\n",
      "1440-th iteration: 0.34566313453097797\n",
      "1450-th iteration: 0.34566311409980854\n",
      "1460-th iteration: 0.34566309502592735\n",
      "1470-th iteration: 0.3456630772153957\n",
      "1480-th iteration: 0.3456630605810124\n",
      "1490-th iteration: 0.34566304504181633\n",
      "1500-th iteration: 0.3456630305226261\n",
      "1510-th iteration: 0.3456630169536141\n",
      "1520-th iteration: 0.34566300426991486\n",
      "1530-th iteration: 0.34566299241126003\n",
      "1540-th iteration: 0.3456629813216429\n",
      "1550-th iteration: 0.3456629709490071\n",
      "1560-th iteration: 0.345662961244959\n",
      "1570-th iteration: 0.34566295216450077\n",
      "1580-th iteration: 0.3456629436657852\n",
      "1590-th iteration: 0.3456629357098864\n",
      "1600-th iteration: 0.3456629282605902\n",
      "1610-th iteration: 0.3456629212841972\n",
      "1620-th iteration: 0.34566291474934263\n",
      "1630-th iteration: 0.3456629086268294\n",
      "1640-th iteration: 0.34566290288947177\n",
      "1650-th iteration: 0.3456628975119523\n",
      "1660-th iteration: 0.3456628924706888\n",
      "1670-th iteration: 0.34566288774371096\n",
      "1680-th iteration: 0.34566288331054534\n",
      "1690-th iteration: 0.34566287915211036\n",
      "1700-th iteration: 0.3456628752506174\n",
      "1710-th iteration: 0.34566287158948034\n",
      "1720-th iteration: 0.34566286815323055\n",
      "1730-th iteration: 0.3456628649274388\n",
      "1740-th iteration: 0.3456628618986424\n",
      "1750-th iteration: 0.3456628590542785\n",
      "1760-th iteration: 0.34566285638262095\n",
      "1770-th iteration: 0.3456628538727222\n",
      "1780-th iteration: 0.3456628515143595\n",
      "1790-th iteration: 0.34566284929798546\n",
      "1800-th iteration: 0.34566284721468105\n",
      "1810-th iteration: 0.3456628452561124\n",
      "1820-th iteration: 0.345662843414491\n",
      "1830-th iteration: 0.3456628416825367\n",
      "1840-th iteration: 0.3456628400534427\n",
      "1850-th iteration: 0.3456628385208434\n",
      "1860-th iteration: 0.34566283707878526\n",
      "1870-th iteration: 0.34566283572169765\n",
      "1880-th iteration: 0.3456628344443688\n",
      "1890-th iteration: 0.3456628332419205\n",
      "1900-th iteration: 0.34566283210978577\n",
      "1910-th iteration: 0.34566283104368895\n",
      "1920-th iteration: 0.34566283003962545\n",
      "1930-th iteration: 0.3456628290938445\n",
      "1940-th iteration: 0.34566282820283173\n",
      "1950-th iteration: 0.3456628273632943\n",
      "1960-th iteration: 0.34566282657214503\n",
      "1970-th iteration: 0.3456628258264908\n",
      "1980-th iteration: 0.34566282512361834\n",
      "1990-th iteration: 0.3456628244609833\n"
     ]
    },
    {
     "data": {
      "image/png": "[encoded data removed]",
      "text/plain": [
       "<Figure size 432x288 with 1 Axes>"
      ]
     },
     "metadata": {
      "needs_background": "light"
     },
     "output_type": "display_data"
    }
   ],
   "source": [
    "params = fit(X, Y, learning_rate = 0.1, num_iter = 2000, debug = True)"
   ]
  },
  {
   "cell_type": "code",
   "execution_count": 23,
   "metadata": {},
   "outputs": [
    {
     "name": "stdout",
     "output_type": "stream",
     "text": [
      "{'W': array([[ 0.82579706,  1.31052955, -0.72786034, -0.87438444, -0.36752801,\n",
      "        -0.03494844, -0.2226689 ]]), 'b': -0.2544311748292746}\n"
     ]
    }
   ],
   "source": [
    "print(params)"
   ]
  },
  {
   "cell_type": "code",
   "execution_count": null,
   "metadata": {},
   "outputs": [],
   "source": []
  }
 ],
 "metadata": {
  "kernelspec": {
   "display_name": "Python 3",
   "language": "python",
   "name": "python3"
  },
  "language_info": {
   "codemirror_mode": {
    "name": "ipython",
    "version": 3
   },
   "file_extension": ".py",
   "mimetype": "text/x-python",
   "name": "python",
   "nbconvert_exporter": "python",
   "pygments_lexer": "ipython3",
   "version": "3.8.5"
  }
 },
 "nbformat": 4,
 "nbformat_minor": 1
}
